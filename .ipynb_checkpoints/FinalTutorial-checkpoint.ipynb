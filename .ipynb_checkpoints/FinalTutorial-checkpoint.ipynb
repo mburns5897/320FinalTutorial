{
 "cells": [
  {
   "cell_type": "markdown",
   "metadata": {},
   "source": [
    "# Analysis of 3 Million Russian Bot Tweets\n",
    "### Matt Burns and Jordan Wolinsky"
   ]
  },
  {
   "cell_type": "markdown",
   "metadata": {},
   "source": [
    "### Introduction\n",
    "\n",
    "In the USA, it is nearly impossible to watch, listen, or read the news without another mention about the 2016 Election and the Russian interference associated.  The overall objective of this project is to analyze a sample of the 3 million Russian bot tweets that 538 has collected.  \n",
    "\n",
    "Throughout the tutorial we will attempt to confirm or deny view points stated by the media, like that these bots were used in some way to swing voters to vote for Donald Trump by analyzing trends and testing them."
   ]
  },
  {
   "cell_type": "markdown",
   "metadata": {},
   "source": [
    "### Required Tools\n",
    "The following modules are needed:\n",
    "1. pandas\n",
    "2. numpy\n",
    "3. io\n",
    "4. datetime\n",
    "5. matplotlib\n",
    "6. requests\n",
    "7. re"
   ]
  },
  {
   "cell_type": "markdown",
   "metadata": {},
   "source": [
    "### 1. Data Collection\n",
    "\n",
    "This section of code represents the data collection phase in the data life cycle.  In this phase, we collect data from CSVs from https://data.world/fivethirtyeight/russian-troll-tweets.  Due to the immense sized of the data available, we determined it necessary to form a CSV from 100,000 randomly selected tweets from the 3 million tweets so we could actually process the data in a reasonable time.  We used a simple python [script](https://github.com/mburns5897/320FinalTutorial/blob/master/random_csv.ipynb) to form the new, random, more managable CSV."
   ]
  },
  {
   "cell_type": "code",
   "execution_count": 1,
   "metadata": {},
   "outputs": [],
   "source": [
    "import pandas as pd\n",
    "import numpy as np\n",
    "import io\n",
    "import datetime\n",
    "import matplotlib\n",
    "import requests\n",
    "import re"
   ]
  },
  {
   "cell_type": "code",
   "execution_count": 2,
   "metadata": {},
   "outputs": [
    {
     "data": {
      "text/html": [
       "<div>\n",
       "<style scoped>\n",
       "    .dataframe tbody tr th:only-of-type {\n",
       "        vertical-align: middle;\n",
       "    }\n",
       "\n",
       "    .dataframe tbody tr th {\n",
       "        vertical-align: top;\n",
       "    }\n",
       "\n",
       "    .dataframe thead th {\n",
       "        text-align: right;\n",
       "    }\n",
       "</style>\n",
       "<table border=\"1\" class=\"dataframe\">\n",
       "  <thead>\n",
       "    <tr style=\"text-align: right;\">\n",
       "      <th></th>\n",
       "      <th>Unnamed: 0</th>\n",
       "      <th>external_author_id</th>\n",
       "      <th>author</th>\n",
       "      <th>content</th>\n",
       "      <th>region</th>\n",
       "      <th>language</th>\n",
       "      <th>publish_date</th>\n",
       "      <th>harvested_date</th>\n",
       "      <th>following</th>\n",
       "      <th>followers</th>\n",
       "      <th>updates</th>\n",
       "      <th>post_type</th>\n",
       "      <th>account_type</th>\n",
       "      <th>new_june_2018</th>\n",
       "      <th>retweet</th>\n",
       "      <th>account_category</th>\n",
       "    </tr>\n",
       "  </thead>\n",
       "  <tbody>\n",
       "    <tr>\n",
       "      <th>0</th>\n",
       "      <td>131642</td>\n",
       "      <td>1.512372e+09</td>\n",
       "      <td>CATELINEWATKINS</td>\n",
       "      <td>#ThingsYouCantIgnore Morning breath</td>\n",
       "      <td>United States</td>\n",
       "      <td>English</td>\n",
       "      <td>12/19/2016 15:56</td>\n",
       "      <td>12/19/2016 15:56</td>\n",
       "      <td>2618</td>\n",
       "      <td>2589</td>\n",
       "      <td>2752</td>\n",
       "      <td>NaN</td>\n",
       "      <td>Hashtager</td>\n",
       "      <td>0</td>\n",
       "      <td>0</td>\n",
       "      <td>HashtagGamer</td>\n",
       "    </tr>\n",
       "    <tr>\n",
       "      <th>1</th>\n",
       "      <td>272846</td>\n",
       "      <td>2.611151e+09</td>\n",
       "      <td>SEATTLE_POST</td>\n",
       "      <td>Quarterback Everett Golson to transfer from No...</td>\n",
       "      <td>United States</td>\n",
       "      <td>English</td>\n",
       "      <td>5/7/2015 19:08</td>\n",
       "      <td>5/7/2015 19:08</td>\n",
       "      <td>7003</td>\n",
       "      <td>11483</td>\n",
       "      <td>4795</td>\n",
       "      <td>NaN</td>\n",
       "      <td>local</td>\n",
       "      <td>0</td>\n",
       "      <td>0</td>\n",
       "      <td>NewsFeed</td>\n",
       "    </tr>\n",
       "    <tr>\n",
       "      <th>2</th>\n",
       "      <td>277728</td>\n",
       "      <td>2.620614e+09</td>\n",
       "      <td>PHILADELPHIAON</td>\n",
       "      <td>PA House Approves Bill Cracking Down On ‘Stop-...</td>\n",
       "      <td>United States</td>\n",
       "      <td>English</td>\n",
       "      <td>6/27/2017 21:29</td>\n",
       "      <td>6/27/2017 21:29</td>\n",
       "      <td>7841</td>\n",
       "      <td>16786</td>\n",
       "      <td>18573</td>\n",
       "      <td>NaN</td>\n",
       "      <td>local</td>\n",
       "      <td>0</td>\n",
       "      <td>0</td>\n",
       "      <td>NewsFeed</td>\n",
       "    </tr>\n",
       "    <tr>\n",
       "      <th>3</th>\n",
       "      <td>163829</td>\n",
       "      <td>8.980000e+17</td>\n",
       "      <td>CHARMEESTRS</td>\n",
       "      <td>‘Tyranny of Political Correctness’ Forced Boy ...</td>\n",
       "      <td>Unknown</td>\n",
       "      <td>English</td>\n",
       "      <td>10/12/2017 12:22</td>\n",
       "      <td>10/12/2017 12:22</td>\n",
       "      <td>4754</td>\n",
       "      <td>1996</td>\n",
       "      <td>2156</td>\n",
       "      <td>NaN</td>\n",
       "      <td>Right</td>\n",
       "      <td>0</td>\n",
       "      <td>0</td>\n",
       "      <td>RightTroll</td>\n",
       "    </tr>\n",
       "    <tr>\n",
       "      <th>4</th>\n",
       "      <td>243436</td>\n",
       "      <td>3.272641e+09</td>\n",
       "      <td>EXQUOTE</td>\n",
       "      <td>http://t.co/yeGVLw5A9C About to Eat then Go Wo...</td>\n",
       "      <td>United States</td>\n",
       "      <td>English</td>\n",
       "      <td>7/16/2015 9:40</td>\n",
       "      <td>7/16/2015 9:40</td>\n",
       "      <td>2</td>\n",
       "      <td>291</td>\n",
       "      <td>14190</td>\n",
       "      <td>NaN</td>\n",
       "      <td>Commercial</td>\n",
       "      <td>1</td>\n",
       "      <td>0</td>\n",
       "      <td>Commercial</td>\n",
       "    </tr>\n",
       "  </tbody>\n",
       "</table>\n",
       "</div>"
      ],
      "text/plain": [
       "   Unnamed: 0  external_author_id           author  \\\n",
       "0      131642        1.512372e+09  CATELINEWATKINS   \n",
       "1      272846        2.611151e+09     SEATTLE_POST   \n",
       "2      277728        2.620614e+09   PHILADELPHIAON   \n",
       "3      163829        8.980000e+17      CHARMEESTRS   \n",
       "4      243436        3.272641e+09          EXQUOTE   \n",
       "\n",
       "                                             content         region language  \\\n",
       "0                #ThingsYouCantIgnore Morning breath  United States  English   \n",
       "1  Quarterback Everett Golson to transfer from No...  United States  English   \n",
       "2  PA House Approves Bill Cracking Down On ‘Stop-...  United States  English   \n",
       "3  ‘Tyranny of Political Correctness’ Forced Boy ...        Unknown  English   \n",
       "4  http://t.co/yeGVLw5A9C About to Eat then Go Wo...  United States  English   \n",
       "\n",
       "       publish_date    harvested_date  following  followers  updates  \\\n",
       "0  12/19/2016 15:56  12/19/2016 15:56       2618       2589     2752   \n",
       "1    5/7/2015 19:08    5/7/2015 19:08       7003      11483     4795   \n",
       "2   6/27/2017 21:29   6/27/2017 21:29       7841      16786    18573   \n",
       "3  10/12/2017 12:22  10/12/2017 12:22       4754       1996     2156   \n",
       "4    7/16/2015 9:40    7/16/2015 9:40          2        291    14190   \n",
       "\n",
       "  post_type account_type  new_june_2018  retweet account_category  \n",
       "0       NaN    Hashtager              0        0     HashtagGamer  \n",
       "1       NaN        local              0        0         NewsFeed  \n",
       "2       NaN        local              0        0         NewsFeed  \n",
       "3       NaN        Right              0        0       RightTroll  \n",
       "4       NaN   Commercial              1        0       Commercial  "
      ]
     },
     "execution_count": 2,
     "metadata": {},
     "output_type": "execute_result"
    }
   ],
   "source": [
    "df = pd.read_csv('data.csv')\n",
    "df.head()"
   ]
  },
  {
   "cell_type": "markdown",
   "metadata": {},
   "source": [
    "### 2. Data Collection\n",
    "In this stage of the data life cycle, we attempt to 'tidy up' the data and make it more easily readable and ready to perform analysis.  The main ways we did this was by dropping unused columns, adding a mentions column that indicates which of the 6 politicians we decided were relevant are mentioned in the tweet, and dropping tweets were no politician is mentioned as they would not be relevant for our analysis.  \n",
    "\n",
    "___Politicians:___\n",
    "1. Donald Trump\n",
    "2. Hillary Clinton\n",
    "3. Bernie Sanders\n",
    "4. Barack Obama\n",
    "5. Ted Cruz\n",
    "6. Beto O'Rourke\n",
    "\n",
    "These politicians were chosen because they are some of the most mentioned politicians of recent years.\n",
    "\n",
    "The head of the DataFrame is displayed after each significant change is made."
   ]
  },
  {
   "cell_type": "code",
   "execution_count": 3,
   "metadata": {},
   "outputs": [
    {
     "data": {
      "text/html": [
       "<div>\n",
       "<style scoped>\n",
       "    .dataframe tbody tr th:only-of-type {\n",
       "        vertical-align: middle;\n",
       "    }\n",
       "\n",
       "    .dataframe tbody tr th {\n",
       "        vertical-align: top;\n",
       "    }\n",
       "\n",
       "    .dataframe thead th {\n",
       "        text-align: right;\n",
       "    }\n",
       "</style>\n",
       "<table border=\"1\" class=\"dataframe\">\n",
       "  <thead>\n",
       "    <tr style=\"text-align: right;\">\n",
       "      <th></th>\n",
       "      <th>Unnamed: 0</th>\n",
       "      <th>author</th>\n",
       "      <th>content</th>\n",
       "      <th>region</th>\n",
       "      <th>language</th>\n",
       "      <th>publish_date</th>\n",
       "      <th>followers</th>\n",
       "      <th>account_type</th>\n",
       "      <th>account_category</th>\n",
       "    </tr>\n",
       "  </thead>\n",
       "  <tbody>\n",
       "    <tr>\n",
       "      <th>0</th>\n",
       "      <td>131642</td>\n",
       "      <td>CATELINEWATKINS</td>\n",
       "      <td>#ThingsYouCantIgnore Morning breath</td>\n",
       "      <td>United States</td>\n",
       "      <td>English</td>\n",
       "      <td>12/19/2016 15:56</td>\n",
       "      <td>2589</td>\n",
       "      <td>Hashtager</td>\n",
       "      <td>HashtagGamer</td>\n",
       "    </tr>\n",
       "    <tr>\n",
       "      <th>1</th>\n",
       "      <td>272846</td>\n",
       "      <td>SEATTLE_POST</td>\n",
       "      <td>Quarterback Everett Golson to transfer from No...</td>\n",
       "      <td>United States</td>\n",
       "      <td>English</td>\n",
       "      <td>5/7/2015 19:08</td>\n",
       "      <td>11483</td>\n",
       "      <td>local</td>\n",
       "      <td>NewsFeed</td>\n",
       "    </tr>\n",
       "    <tr>\n",
       "      <th>2</th>\n",
       "      <td>277728</td>\n",
       "      <td>PHILADELPHIAON</td>\n",
       "      <td>PA House Approves Bill Cracking Down On ‘Stop-...</td>\n",
       "      <td>United States</td>\n",
       "      <td>English</td>\n",
       "      <td>6/27/2017 21:29</td>\n",
       "      <td>16786</td>\n",
       "      <td>local</td>\n",
       "      <td>NewsFeed</td>\n",
       "    </tr>\n",
       "    <tr>\n",
       "      <th>3</th>\n",
       "      <td>163829</td>\n",
       "      <td>CHARMEESTRS</td>\n",
       "      <td>‘Tyranny of Political Correctness’ Forced Boy ...</td>\n",
       "      <td>Unknown</td>\n",
       "      <td>English</td>\n",
       "      <td>10/12/2017 12:22</td>\n",
       "      <td>1996</td>\n",
       "      <td>Right</td>\n",
       "      <td>RightTroll</td>\n",
       "    </tr>\n",
       "    <tr>\n",
       "      <th>4</th>\n",
       "      <td>243436</td>\n",
       "      <td>EXQUOTE</td>\n",
       "      <td>http://t.co/yeGVLw5A9C About to Eat then Go Wo...</td>\n",
       "      <td>United States</td>\n",
       "      <td>English</td>\n",
       "      <td>7/16/2015 9:40</td>\n",
       "      <td>291</td>\n",
       "      <td>Commercial</td>\n",
       "      <td>Commercial</td>\n",
       "    </tr>\n",
       "  </tbody>\n",
       "</table>\n",
       "</div>"
      ],
      "text/plain": [
       "   Unnamed: 0           author  \\\n",
       "0      131642  CATELINEWATKINS   \n",
       "1      272846     SEATTLE_POST   \n",
       "2      277728   PHILADELPHIAON   \n",
       "3      163829      CHARMEESTRS   \n",
       "4      243436          EXQUOTE   \n",
       "\n",
       "                                             content         region language  \\\n",
       "0                #ThingsYouCantIgnore Morning breath  United States  English   \n",
       "1  Quarterback Everett Golson to transfer from No...  United States  English   \n",
       "2  PA House Approves Bill Cracking Down On ‘Stop-...  United States  English   \n",
       "3  ‘Tyranny of Political Correctness’ Forced Boy ...        Unknown  English   \n",
       "4  http://t.co/yeGVLw5A9C About to Eat then Go Wo...  United States  English   \n",
       "\n",
       "       publish_date  followers account_type account_category  \n",
       "0  12/19/2016 15:56       2589    Hashtager     HashtagGamer  \n",
       "1    5/7/2015 19:08      11483        local         NewsFeed  \n",
       "2   6/27/2017 21:29      16786        local         NewsFeed  \n",
       "3  10/12/2017 12:22       1996        Right       RightTroll  \n",
       "4    7/16/2015 9:40        291   Commercial       Commercial  "
      ]
     },
     "execution_count": 3,
     "metadata": {},
     "output_type": "execute_result"
    }
   ],
   "source": [
    "# Delete unused columns\n",
    "df = df.drop(['external_author_id', 'harvested_date', 'following', 'updates', 'post_type', 'new_june_2018', 'retweet'], axis=1)\n",
    "df.head()"
   ]
  },
  {
   "cell_type": "code",
   "execution_count": 4,
   "metadata": {},
   "outputs": [
    {
     "data": {
      "text/html": [
       "<div>\n",
       "<style scoped>\n",
       "    .dataframe tbody tr th:only-of-type {\n",
       "        vertical-align: middle;\n",
       "    }\n",
       "\n",
       "    .dataframe tbody tr th {\n",
       "        vertical-align: top;\n",
       "    }\n",
       "\n",
       "    .dataframe thead th {\n",
       "        text-align: right;\n",
       "    }\n",
       "</style>\n",
       "<table border=\"1\" class=\"dataframe\">\n",
       "  <thead>\n",
       "    <tr style=\"text-align: right;\">\n",
       "      <th></th>\n",
       "      <th>Unnamed: 0</th>\n",
       "      <th>author</th>\n",
       "      <th>content</th>\n",
       "      <th>region</th>\n",
       "      <th>language</th>\n",
       "      <th>publish_date</th>\n",
       "      <th>followers</th>\n",
       "      <th>account_type</th>\n",
       "      <th>account_category</th>\n",
       "      <th>mention</th>\n",
       "    </tr>\n",
       "  </thead>\n",
       "  <tbody>\n",
       "    <tr>\n",
       "      <th>0</th>\n",
       "      <td>131642</td>\n",
       "      <td>CATELINEWATKINS</td>\n",
       "      <td>#ThingsYouCantIgnore Morning breath</td>\n",
       "      <td>United States</td>\n",
       "      <td>English</td>\n",
       "      <td>12/19/2016 15:56</td>\n",
       "      <td>2589</td>\n",
       "      <td>Hashtager</td>\n",
       "      <td>HashtagGamer</td>\n",
       "      <td></td>\n",
       "    </tr>\n",
       "    <tr>\n",
       "      <th>1</th>\n",
       "      <td>272846</td>\n",
       "      <td>SEATTLE_POST</td>\n",
       "      <td>Quarterback Everett Golson to transfer from No...</td>\n",
       "      <td>United States</td>\n",
       "      <td>English</td>\n",
       "      <td>5/7/2015 19:08</td>\n",
       "      <td>11483</td>\n",
       "      <td>local</td>\n",
       "      <td>NewsFeed</td>\n",
       "      <td></td>\n",
       "    </tr>\n",
       "    <tr>\n",
       "      <th>2</th>\n",
       "      <td>277728</td>\n",
       "      <td>PHILADELPHIAON</td>\n",
       "      <td>PA House Approves Bill Cracking Down On ‘Stop-...</td>\n",
       "      <td>United States</td>\n",
       "      <td>English</td>\n",
       "      <td>6/27/2017 21:29</td>\n",
       "      <td>16786</td>\n",
       "      <td>local</td>\n",
       "      <td>NewsFeed</td>\n",
       "      <td></td>\n",
       "    </tr>\n",
       "    <tr>\n",
       "      <th>3</th>\n",
       "      <td>163829</td>\n",
       "      <td>CHARMEESTRS</td>\n",
       "      <td>‘Tyranny of Political Correctness’ Forced Boy ...</td>\n",
       "      <td>Unknown</td>\n",
       "      <td>English</td>\n",
       "      <td>10/12/2017 12:22</td>\n",
       "      <td>1996</td>\n",
       "      <td>Right</td>\n",
       "      <td>RightTroll</td>\n",
       "      <td></td>\n",
       "    </tr>\n",
       "    <tr>\n",
       "      <th>4</th>\n",
       "      <td>243436</td>\n",
       "      <td>EXQUOTE</td>\n",
       "      <td>http://t.co/yeGVLw5A9C About to Eat then Go Wo...</td>\n",
       "      <td>United States</td>\n",
       "      <td>English</td>\n",
       "      <td>7/16/2015 9:40</td>\n",
       "      <td>291</td>\n",
       "      <td>Commercial</td>\n",
       "      <td>Commercial</td>\n",
       "      <td></td>\n",
       "    </tr>\n",
       "  </tbody>\n",
       "</table>\n",
       "</div>"
      ],
      "text/plain": [
       "   Unnamed: 0           author  \\\n",
       "0      131642  CATELINEWATKINS   \n",
       "1      272846     SEATTLE_POST   \n",
       "2      277728   PHILADELPHIAON   \n",
       "3      163829      CHARMEESTRS   \n",
       "4      243436          EXQUOTE   \n",
       "\n",
       "                                             content         region language  \\\n",
       "0                #ThingsYouCantIgnore Morning breath  United States  English   \n",
       "1  Quarterback Everett Golson to transfer from No...  United States  English   \n",
       "2  PA House Approves Bill Cracking Down On ‘Stop-...  United States  English   \n",
       "3  ‘Tyranny of Political Correctness’ Forced Boy ...        Unknown  English   \n",
       "4  http://t.co/yeGVLw5A9C About to Eat then Go Wo...  United States  English   \n",
       "\n",
       "       publish_date  followers account_type account_category mention  \n",
       "0  12/19/2016 15:56       2589    Hashtager     HashtagGamer          \n",
       "1    5/7/2015 19:08      11483        local         NewsFeed          \n",
       "2   6/27/2017 21:29      16786        local         NewsFeed          \n",
       "3  10/12/2017 12:22       1996        Right       RightTroll          \n",
       "4    7/16/2015 9:40        291   Commercial       Commercial          "
      ]
     },
     "execution_count": 4,
     "metadata": {},
     "output_type": "execute_result"
    }
   ],
   "source": [
    "# Use regex to figure out if the tweet mentions a few relevant political figures \n",
    "\n",
    "trump_regex = re.compile(r'(Donald|Trump)')\n",
    "hill_regex = re.compile(r'(Hillary|Clinton)')\n",
    "bernie_regex = re.compile(r'(Bernie)')\n",
    "obama_regex = re.compile(r'(Obama)')\n",
    "cruz_regex = re.compile(r'(Ted Cruz|Cruz)')\n",
    "beto_regex = re.compile(r'(Beto|O\\'Rourke)')\n",
    "\n",
    "for i, row in df.iterrows():\n",
    "    df.at[i, 'mention'] = ''\n",
    "    search_string = str(row['content'])\n",
    "    if re.search(trump_regex, search_string):\n",
    "        df.at[i, 'mention'] = df.at[i, 'mention'] + 'Trump '\n",
    "    if re.search(hill_regex, search_string):\n",
    "        df.at[i, 'mention'] = df.at[i, 'mention'] + 'Hillary '\n",
    "    if re.search(bernie_regex, search_string):\n",
    "        df.at[i, 'mention'] = df.at[i, 'mention'] + 'Bernie '\n",
    "    if re.search(obama_regex, search_string):\n",
    "        df.at[i, 'mention'] = df.at[i, 'mention'] + 'Obama '\n",
    "    if re.search(cruz_regex, search_string):\n",
    "        df.at[i, 'mention'] = df.at[i, 'mention'] + 'Cruz '\n",
    "    if re.search(beto_regex, search_string):\n",
    "        df.at[i, 'mention'] = df.at[i, 'mention'] + 'Beto '\n",
    "\n",
    "df.head()"
   ]
  },
  {
   "cell_type": "code",
   "execution_count": 5,
   "metadata": {},
   "outputs": [
    {
     "data": {
      "text/html": [
       "<div>\n",
       "<style scoped>\n",
       "    .dataframe tbody tr th:only-of-type {\n",
       "        vertical-align: middle;\n",
       "    }\n",
       "\n",
       "    .dataframe tbody tr th {\n",
       "        vertical-align: top;\n",
       "    }\n",
       "\n",
       "    .dataframe thead th {\n",
       "        text-align: right;\n",
       "    }\n",
       "</style>\n",
       "<table border=\"1\" class=\"dataframe\">\n",
       "  <thead>\n",
       "    <tr style=\"text-align: right;\">\n",
       "      <th></th>\n",
       "      <th>Unnamed: 0</th>\n",
       "      <th>author</th>\n",
       "      <th>content</th>\n",
       "      <th>region</th>\n",
       "      <th>language</th>\n",
       "      <th>publish_date</th>\n",
       "      <th>followers</th>\n",
       "      <th>account_type</th>\n",
       "      <th>account_category</th>\n",
       "      <th>mention</th>\n",
       "    </tr>\n",
       "  </thead>\n",
       "  <tbody>\n",
       "    <tr>\n",
       "      <th>0</th>\n",
       "      <td>35399</td>\n",
       "      <td>BRIANAREGLAND</td>\n",
       "      <td>We will spend more time discussing Trump's pus...</td>\n",
       "      <td>United States</td>\n",
       "      <td>English</td>\n",
       "      <td>10/8/2016 2:32</td>\n",
       "      <td>761</td>\n",
       "      <td>left</td>\n",
       "      <td>LeftTroll</td>\n",
       "      <td>Trump</td>\n",
       "    </tr>\n",
       "    <tr>\n",
       "      <th>1</th>\n",
       "      <td>361319</td>\n",
       "      <td>STANLEYPARRIS</td>\n",
       "      <td>While visiting Trump's White House, this NFL p...</td>\n",
       "      <td>United States</td>\n",
       "      <td>English</td>\n",
       "      <td>4/24/2017 10:45</td>\n",
       "      <td>814</td>\n",
       "      <td>left</td>\n",
       "      <td>LeftTroll</td>\n",
       "      <td>Trump Obama</td>\n",
       "    </tr>\n",
       "    <tr>\n",
       "      <th>2</th>\n",
       "      <td>162971</td>\n",
       "      <td>MARISSAIMSTRONG</td>\n",
       "      <td>Friday, FBI trying to keep track of 48 known I...</td>\n",
       "      <td>United States</td>\n",
       "      <td>English</td>\n",
       "      <td>11/28/2015 13:34</td>\n",
       "      <td>409</td>\n",
       "      <td>Right</td>\n",
       "      <td>RightTroll</td>\n",
       "      <td>Obama</td>\n",
       "    </tr>\n",
       "    <tr>\n",
       "      <th>3</th>\n",
       "      <td>43055</td>\n",
       "      <td>TEN_GOP</td>\n",
       "      <td>Watch anti-Trump protester screams in the face...</td>\n",
       "      <td>United States</td>\n",
       "      <td>English</td>\n",
       "      <td>10/26/2016 21:54</td>\n",
       "      <td>46949</td>\n",
       "      <td>Right</td>\n",
       "      <td>RightTroll</td>\n",
       "      <td>Trump Hillary</td>\n",
       "    </tr>\n",
       "    <tr>\n",
       "      <th>4</th>\n",
       "      <td>31281</td>\n",
       "      <td>PRETTYLARAPLACE</td>\n",
       "      <td>As #Trump surges in the polls #Democrats are s...</td>\n",
       "      <td>United States</td>\n",
       "      <td>English</td>\n",
       "      <td>9/16/2016 18:13</td>\n",
       "      <td>1798</td>\n",
       "      <td>Right</td>\n",
       "      <td>RightTroll</td>\n",
       "      <td>Trump</td>\n",
       "    </tr>\n",
       "  </tbody>\n",
       "</table>\n",
       "</div>"
      ],
      "text/plain": [
       "   Unnamed: 0           author  \\\n",
       "0       35399    BRIANAREGLAND   \n",
       "1      361319    STANLEYPARRIS   \n",
       "2      162971  MARISSAIMSTRONG   \n",
       "3       43055          TEN_GOP   \n",
       "4       31281  PRETTYLARAPLACE   \n",
       "\n",
       "                                             content         region language  \\\n",
       "0  We will spend more time discussing Trump's pus...  United States  English   \n",
       "1  While visiting Trump's White House, this NFL p...  United States  English   \n",
       "2  Friday, FBI trying to keep track of 48 known I...  United States  English   \n",
       "3  Watch anti-Trump protester screams in the face...  United States  English   \n",
       "4  As #Trump surges in the polls #Democrats are s...  United States  English   \n",
       "\n",
       "       publish_date  followers account_type account_category         mention  \n",
       "0    10/8/2016 2:32        761         left        LeftTroll          Trump   \n",
       "1   4/24/2017 10:45        814         left        LeftTroll    Trump Obama   \n",
       "2  11/28/2015 13:34        409        Right       RightTroll          Obama   \n",
       "3  10/26/2016 21:54      46949        Right       RightTroll  Trump Hillary   \n",
       "4   9/16/2016 18:13       1798        Right       RightTroll          Trump   "
      ]
     },
     "execution_count": 5,
     "metadata": {},
     "output_type": "execute_result"
    }
   ],
   "source": [
    "for i, row in df.iterrows():\n",
    "    if df.at[i,'mention'] is '':\n",
    "        df.at[i,'mention'] = np.nan\n",
    "df = df.dropna()\n",
    "df = df.reset_index()\n",
    "df = df.drop(labels='index', axis=1)\n",
    "df.head()"
   ]
  },
  {
   "cell_type": "markdown",
   "metadata": {},
   "source": [
    "### 3. Exploratory Data Analysis and Data Visualization\n",
    "\n",
    "This is the explatory data analysis and data visualization stage of the data life cycle.  In this section, we plot our data in various ways to uncover trends.  We also perform a bit of statistical anaylis in this step to obtain better support for trends that may be discovered.  "
   ]
  },
  {
   "cell_type": "markdown",
   "metadata": {},
   "source": [
    "### Frequency of mentions\n",
    "This graph simple shows the amount of times a Russian bot tweet mentioned one or more of the politicians we deemed important."
   ]
  },
  {
   "cell_type": "code",
   "execution_count": 6,
   "metadata": {
    "scrolled": true
   },
   "outputs": [
    {
     "data": {
      "image/png": "[encoded data removed]",
      "text/plain": [
       "<Figure size 1008x576 with 1 Axes>"
      ]
     },
     "metadata": {
      "needs_background": "light"
     },
     "output_type": "display_data"
    }
   ],
   "source": [
    "%matplotlib inline\n",
    "ax = df.groupby(by='mention')['mention'].count().plot.bar(title=\"Number of Tweets Mentioning Politicians\", figsize=(14,8))\n",
    "_ = ax.set_xlabel('Mention')\n",
    "_ = ax.set_ylabel('Frequency')\n",
    "\n",
    "\n"
   ]
  },
  {
   "cell_type": "markdown",
   "metadata": {},
   "source": [
    "### Frequency of Mentions by Account Category\n",
    "Account Category is a field in the CSV provided by 538.  The following list defines the potential values:\n",
    "1. Commercial\n",
    "2. Fearmonger\n",
    "3. Hashtag Gamer\n",
    "4. Left Troll\n",
    "5. News Feed\n",
    "6. Non English\n",
    "7. Right Troll\n",
    "8. Unknown\n",
    "\n",
    "We decided it was necessary to further tidy the data to only include tweets from account categories relevant to our analysis.  Our list of potential account categories became:\n",
    "1. Fearmonger\n",
    "2. Left Troll\n",
    "3. Right Troll\n",
    "4. News Feed\n",
    "\n",
    "By plotting frequency of mentions with account category, we were able to determine if certain politicians were mentioned in positive or negative sentiment.  Fearmonger being negative, the troll type lining up with the politician's political leanings being positive, contradicting troll type and political leaning being negative, and newsfeed being neutral."
   ]
  },
  {
   "cell_type": "code",
   "execution_count": 7,
   "metadata": {
    "scrolled": true
   },
   "outputs": [
    {
     "data": {
      "image/png": "[encoded data removed]",
      "text/plain": [
       "<Figure size 1152x720 with 1 Axes>"
      ]
     },
     "metadata": {
      "needs_background": "light"
     },
     "output_type": "display_data"
    }
   ],
   "source": [
    "df = df[df.account_category != 'HashtagGamer']\n",
    "df = df[df.account_category != 'Commercial']\n",
    "df = df[df.account_category != 'Unknown']\n",
    "df = df[df.account_category != 'NonEnglish']\n",
    "ax = df.groupby(['account_category', 'mention'])['mention'].count().plot.bar(title=\"Mentions with Account Category\", figsize=(16,10))\n"
   ]
  },
  {
   "cell_type": "markdown",
   "metadata": {},
   "source": [
    "### Frequency of Mention for 2016 Election Canidates\n",
    "We then decided to plot the frequency of mentions of only tweets mentioning the major players in the 2016 election.  We decided this would be useful since the majority of the controversy these Russian bots cause surround the 2016 election."
   ]
  },
  {
   "cell_type": "code",
   "execution_count": 8,
   "metadata": {},
   "outputs": [
    {
     "data": {
      "image/png": "[encoded data removed]",
      "text/plain": [
       "<Figure size 1008x576 with 1 Axes>"
      ]
     },
     "metadata": {
      "needs_background": "light"
     },
     "output_type": "display_data"
    }
   ],
   "source": [
    "election_df = df[df['mention'].str.contains(\"Trump|Hillary|Bernie\")==True]\n",
    "\n",
    "%matplotlib inline\n",
    "ax = df.groupby(by='mention')['mention'].count().plot.bar(title=\"Number of Tweets Mentioning Politicians in the 2016 Election\", figsize=(14,8))\n",
    "_ = ax.set_xlabel('Mention')\n",
    "_ = ax.set_ylabel('Frequency')"
   ]
  },
  {
   "cell_type": "markdown",
   "metadata": {},
   "source": [
    "### Frequency of Mention by Account Category for 2016 Election Canidates\n",
    "This graph shows the frequency of mentions of 2016 election canidates by the account category of the bot who tweeted it.  "
   ]
  },
  {
   "cell_type": "code",
   "execution_count": 9,
   "metadata": {},
   "outputs": [
    {
     "data": {
      "image/png": "[encoded data removed]",
      "text/plain": [
       "<Figure size 1152x720 with 1 Axes>"
      ]
     },
     "metadata": {
      "needs_background": "light"
     },
     "output_type": "display_data"
    }
   ],
   "source": [
    "ax = election_df.groupby(['account_category', 'mention'])['mention'].count().plot.bar(title=\"Mentions with Account Category\", figsize=(16,10))"
   ]
  },
  {
   "cell_type": "markdown",
   "metadata": {},
   "source": [
    "### Observations:\n",
    "Based on this last graph, it becomes evident that there is a trend for bot tweets to mention Trump from accounts asscoiated with idealogies supported by the right (conservatices).  Since the majority of tweets mentioning Trump were from right trolls, our trolls supporting his ideologies, we predict that this means the majority of bot tweets were made with the goal of supporting Trump and pushing his agenda."
   ]
  },
  {
   "cell_type": "markdown",
   "metadata": {},
   "source": [
    "### 4. Analysis and Hypothesis Testing\n",
    "During this phase of the data life cycle wie attemp to perform various modeling techniques in order to come up with conclusions about our data.  Our main goal is to determine if Russian bot tweets were skewed to support Donald Trump."
   ]
  },
  {
   "cell_type": "markdown",
   "metadata": {},
   "source": [
    "### Scoring\n",
    "We used a simple scoring method to determine if a tweet was in support of a politician or against them.  Tweets from accounts whose ideologies matched that of the canidates mentioned recieved a 1.  Tweets whose account categories that didn't line up with the politicians views recieved a -1.  Tweets mentioning both types of politicians (right and left) recieved a 0.  All other tweets not matching these categories recieved a -1."
   ]
  },
  {
   "cell_type": "code",
   "execution_count": 10,
   "metadata": {},
   "outputs": [
    {
     "data": {
      "text/html": [
       "<div>\n",
       "<style scoped>\n",
       "    .dataframe tbody tr th:only-of-type {\n",
       "        vertical-align: middle;\n",
       "    }\n",
       "\n",
       "    .dataframe tbody tr th {\n",
       "        vertical-align: top;\n",
       "    }\n",
       "\n",
       "    .dataframe thead th {\n",
       "        text-align: right;\n",
       "    }\n",
       "</style>\n",
       "<table border=\"1\" class=\"dataframe\">\n",
       "  <thead>\n",
       "    <tr style=\"text-align: right;\">\n",
       "      <th></th>\n",
       "      <th>Unnamed: 0</th>\n",
       "      <th>author</th>\n",
       "      <th>content</th>\n",
       "      <th>region</th>\n",
       "      <th>language</th>\n",
       "      <th>publish_date</th>\n",
       "      <th>followers</th>\n",
       "      <th>account_type</th>\n",
       "      <th>account_category</th>\n",
       "      <th>mention</th>\n",
       "      <th>score</th>\n",
       "    </tr>\n",
       "  </thead>\n",
       "  <tbody>\n",
       "    <tr>\n",
       "      <th>0</th>\n",
       "      <td>35399</td>\n",
       "      <td>BRIANAREGLAND</td>\n",
       "      <td>We will spend more time discussing Trump's pus...</td>\n",
       "      <td>United States</td>\n",
       "      <td>English</td>\n",
       "      <td>10/8/2016 2:32</td>\n",
       "      <td>761</td>\n",
       "      <td>left</td>\n",
       "      <td>LeftTroll</td>\n",
       "      <td>Trump</td>\n",
       "      <td>-1.0</td>\n",
       "    </tr>\n",
       "    <tr>\n",
       "      <th>1</th>\n",
       "      <td>361319</td>\n",
       "      <td>STANLEYPARRIS</td>\n",
       "      <td>While visiting Trump's White House, this NFL p...</td>\n",
       "      <td>United States</td>\n",
       "      <td>English</td>\n",
       "      <td>4/24/2017 10:45</td>\n",
       "      <td>814</td>\n",
       "      <td>left</td>\n",
       "      <td>LeftTroll</td>\n",
       "      <td>Trump Obama</td>\n",
       "      <td>0.0</td>\n",
       "    </tr>\n",
       "    <tr>\n",
       "      <th>2</th>\n",
       "      <td>162971</td>\n",
       "      <td>MARISSAIMSTRONG</td>\n",
       "      <td>Friday, FBI trying to keep track of 48 known I...</td>\n",
       "      <td>United States</td>\n",
       "      <td>English</td>\n",
       "      <td>11/28/2015 13:34</td>\n",
       "      <td>409</td>\n",
       "      <td>Right</td>\n",
       "      <td>RightTroll</td>\n",
       "      <td>Obama</td>\n",
       "      <td>-1.0</td>\n",
       "    </tr>\n",
       "    <tr>\n",
       "      <th>3</th>\n",
       "      <td>43055</td>\n",
       "      <td>TEN_GOP</td>\n",
       "      <td>Watch anti-Trump protester screams in the face...</td>\n",
       "      <td>United States</td>\n",
       "      <td>English</td>\n",
       "      <td>10/26/2016 21:54</td>\n",
       "      <td>46949</td>\n",
       "      <td>Right</td>\n",
       "      <td>RightTroll</td>\n",
       "      <td>Trump Hillary</td>\n",
       "      <td>0.0</td>\n",
       "    </tr>\n",
       "    <tr>\n",
       "      <th>4</th>\n",
       "      <td>31281</td>\n",
       "      <td>PRETTYLARAPLACE</td>\n",
       "      <td>As #Trump surges in the polls #Democrats are s...</td>\n",
       "      <td>United States</td>\n",
       "      <td>English</td>\n",
       "      <td>9/16/2016 18:13</td>\n",
       "      <td>1798</td>\n",
       "      <td>Right</td>\n",
       "      <td>RightTroll</td>\n",
       "      <td>Trump</td>\n",
       "      <td>1.0</td>\n",
       "    </tr>\n",
       "  </tbody>\n",
       "</table>\n",
       "</div>"
      ],
      "text/plain": [
       "   Unnamed: 0           author  \\\n",
       "0       35399    BRIANAREGLAND   \n",
       "1      361319    STANLEYPARRIS   \n",
       "2      162971  MARISSAIMSTRONG   \n",
       "3       43055          TEN_GOP   \n",
       "4       31281  PRETTYLARAPLACE   \n",
       "\n",
       "                                             content         region language  \\\n",
       "0  We will spend more time discussing Trump's pus...  United States  English   \n",
       "1  While visiting Trump's White House, this NFL p...  United States  English   \n",
       "2  Friday, FBI trying to keep track of 48 known I...  United States  English   \n",
       "3  Watch anti-Trump protester screams in the face...  United States  English   \n",
       "4  As #Trump surges in the polls #Democrats are s...  United States  English   \n",
       "\n",
       "       publish_date  followers account_type account_category         mention  \\\n",
       "0    10/8/2016 2:32        761         left        LeftTroll          Trump    \n",
       "1   4/24/2017 10:45        814         left        LeftTroll    Trump Obama    \n",
       "2  11/28/2015 13:34        409        Right       RightTroll          Obama    \n",
       "3  10/26/2016 21:54      46949        Right       RightTroll  Trump Hillary    \n",
       "4   9/16/2016 18:13       1798        Right       RightTroll          Trump    \n",
       "\n",
       "   score  \n",
       "0   -1.0  \n",
       "1    0.0  \n",
       "2   -1.0  \n",
       "3    0.0  \n",
       "4    1.0  "
      ]
     },
     "execution_count": 10,
     "metadata": {},
     "output_type": "execute_result"
    }
   ],
   "source": [
    "right_re = re.compile(r'(Cruz|Trump)')\n",
    "left_re = re.compile(r'(Beto|Hillary|Obama|Bernie)')\n",
    "for i, row in df.iterrows():\n",
    "    mention = str(row.mention)\n",
    "    if re.search(right_re, mention) and re.search(left_re, mention):\n",
    "        df.at[i, 'score'] = 0\n",
    "    elif re.search(right_re, mention) and row.account_category == 'RightTroll':\n",
    "        df.at[i, 'score'] = 1\n",
    "    elif re.search(left_re, mention) and row.account_category == 'LeftTroll': \n",
    "        df.at[i, 'score'] = 1\n",
    "    else:\n",
    "        df.at[i, 'score'] = -1\n",
    "df.head()"
   ]
  },
  {
   "cell_type": "markdown",
   "metadata": {},
   "source": [
    "### Hypothesis\n",
    "For our Null-Hypothesis, we hypothesize that the tweets that mention Democratic candidates come from LeftTroll Accounts while tweets that mention Republican candidates come from RightTroll accounts.  In order to score this, we gave each row a value of 1, 0, or -1.  1 For a correct matching, 0 for both candidates being mentioned, and -1 for different sides.  To see what has the majority, we will simply sum the column."
   ]
  },
  {
   "cell_type": "code",
   "execution_count": 11,
   "metadata": {},
   "outputs": [
    {
     "data": {
      "text/plain": [
       "-52.0"
      ]
     },
     "execution_count": 11,
     "metadata": {},
     "output_type": "execute_result"
    }
   ],
   "source": [
    "df['score'].sum(axis=0)"
   ]
  },
  {
   "cell_type": "markdown",
   "metadata": {},
   "source": [
    "This sum indicates that most russian bot tweets mention canidates in opposing political parties than the narrative the accounts are trying to push.  Based on this, we can come to the conclusion that most bot tweets are trying to paint specific canidates in negative light instead of trying to promote the politicians that they align with.  "
   ]
  },
  {
   "cell_type": "markdown",
   "metadata": {},
   "source": [
    "### Further Analysis needed for Insight"
   ]
  },
  {
   "cell_type": "markdown",
   "metadata": {},
   "source": [
    "### Number of Tweets Negatively Mentioning Hillary Clinton"
   ]
  },
  {
   "cell_type": "code",
   "execution_count": 12,
   "metadata": {},
   "outputs": [
    {
     "data": {
      "text/plain": [
       "1712"
      ]
     },
     "execution_count": 12,
     "metadata": {},
     "output_type": "execute_result"
    }
   ],
   "source": [
    "clinton_re = re.compile(r'(Hillary)')\n",
    "\n",
    "count = 0\n",
    "for i, row in df.iterrows():\n",
    "    if re.search(clinton_re, row['mention']) and row['account_category'] == 'RightTroll':\n",
    "        count += 1\n",
    "count"
   ]
  },
  {
   "cell_type": "markdown",
   "metadata": {},
   "source": [
    "### Number of Tweets Positively Mentioning Donald Trump"
   ]
  },
  {
   "cell_type": "code",
   "execution_count": 13,
   "metadata": {},
   "outputs": [
    {
     "data": {
      "text/plain": [
       "4558"
      ]
     },
     "execution_count": 13,
     "metadata": {},
     "output_type": "execute_result"
    }
   ],
   "source": [
    "trump_re = re.compile(r'(Trump)')\n",
    "\n",
    "count = 0\n",
    "for i, row in df.iterrows():\n",
    "    if re.search(trump_re, row['mention']) and row['account_category'] == 'RightTroll':\n",
    "        count += 1\n",
    "count"
   ]
  },
  {
   "cell_type": "markdown",
   "metadata": {},
   "source": [
    "### Number of Tweets Positively Mentioning Hillary Clinton"
   ]
  },
  {
   "cell_type": "code",
   "execution_count": 14,
   "metadata": {},
   "outputs": [
    {
     "data": {
      "text/plain": [
       "184"
      ]
     },
     "execution_count": 14,
     "metadata": {},
     "output_type": "execute_result"
    }
   ],
   "source": [
    "count = 0\n",
    "for i, row in df.iterrows():\n",
    "    if re.search(clinton_re, row['mention']) and row['account_category'] == 'LeftTroll':\n",
    "        count += 1\n",
    "count"
   ]
  },
  {
   "cell_type": "markdown",
   "metadata": {},
   "source": [
    "### Number of Tweets Negatively Mentioning Donald Trump"
   ]
  },
  {
   "cell_type": "code",
   "execution_count": 15,
   "metadata": {},
   "outputs": [
    {
     "data": {
      "text/plain": [
       "871"
      ]
     },
     "execution_count": 15,
     "metadata": {},
     "output_type": "execute_result"
    }
   ],
   "source": [
    "count = 0\n",
    "for i, row in df.iterrows():\n",
    "    if re.search(trump_re, row['mention']) and row['account_category'] == 'LeftTroll':\n",
    "        count += 1\n",
    "count"
   ]
  },
  {
   "cell_type": "markdown",
   "metadata": {},
   "source": [
    "### Number of Tweets Mentioning Hillary Clinton from Before the 2016 Election"
   ]
  },
  {
   "cell_type": "code",
   "execution_count": 16,
   "metadata": {},
   "outputs": [
    {
     "data": {
      "text/plain": [
       "1363"
      ]
     },
     "execution_count": 16,
     "metadata": {},
     "output_type": "execute_result"
    }
   ],
   "source": [
    "df['publish_date'] = pd.to_datetime(df['publish_date'])\n",
    "election_date = pd.to_datetime('November 8, 2016')\n",
    "\n",
    "pre_df = df[df['publish_date'] <= election_date]\n",
    "\n",
    "count = 0\n",
    "for i, row in pre_df.iterrows():\n",
    "    if re.search(clinton_re, row['mention']):\n",
    "        count += 1\n",
    "count"
   ]
  },
  {
   "cell_type": "markdown",
   "metadata": {},
   "source": [
    "### Number of Tweets Mentioning Hillary Clinton from After the 2016 Election"
   ]
  },
  {
   "cell_type": "code",
   "execution_count": 17,
   "metadata": {},
   "outputs": [
    {
     "data": {
      "text/plain": [
       "800"
      ]
     },
     "execution_count": 17,
     "metadata": {},
     "output_type": "execute_result"
    }
   ],
   "source": [
    "post_df = df[df['publish_date'] > election_date]\n",
    "\n",
    "count = 0\n",
    "for i, row in post_df.iterrows():\n",
    "    if re.search(clinton_re, row['mention']):\n",
    "        count += 1\n",
    "count"
   ]
  },
  {
   "cell_type": "markdown",
   "metadata": {},
   "source": [
    "### Number of Tweets Mentioning Donald Trump from Before the 2016 Election"
   ]
  },
  {
   "cell_type": "code",
   "execution_count": 18,
   "metadata": {},
   "outputs": [
    {
     "data": {
      "text/plain": [
       "1699"
      ]
     },
     "execution_count": 18,
     "metadata": {},
     "output_type": "execute_result"
    }
   ],
   "source": [
    "pre_df = df[df['publish_date'] <= election_date]\n",
    "\n",
    "count = 0\n",
    "for i, row in pre_df.iterrows():\n",
    "    if re.search(trump_re, row['mention']):\n",
    "        count += 1\n",
    "count"
   ]
  },
  {
   "cell_type": "markdown",
   "metadata": {},
   "source": [
    "### Number of Tweets Mentioning Donald Trump from After the 2016 Election"
   ]
  },
  {
   "cell_type": "code",
   "execution_count": 19,
   "metadata": {},
   "outputs": [
    {
     "data": {
      "text/plain": [
       "4504"
      ]
     },
     "execution_count": 19,
     "metadata": {},
     "output_type": "execute_result"
    }
   ],
   "source": [
    "post_df = df[df['publish_date'] > election_date]\n",
    "\n",
    "count = 0\n",
    "for i, row in post_df.iterrows():\n",
    "    if re.search(trump_re, row['mention']):\n",
    "        count += 1\n",
    "count"
   ]
  },
  {
   "cell_type": "markdown",
   "metadata": {},
   "source": [
    "### Statistics of Followers Based on Account Category"
   ]
  },
  {
   "cell_type": "code",
   "execution_count": 20,
   "metadata": {
    "scrolled": true
   },
   "outputs": [
    {
     "data": {
      "text/html": [
       "<div>\n",
       "<style scoped>\n",
       "    .dataframe tbody tr th:only-of-type {\n",
       "        vertical-align: middle;\n",
       "    }\n",
       "\n",
       "    .dataframe tbody tr th {\n",
       "        vertical-align: top;\n",
       "    }\n",
       "\n",
       "    .dataframe thead th {\n",
       "        text-align: right;\n",
       "    }\n",
       "</style>\n",
       "<table border=\"1\" class=\"dataframe\">\n",
       "  <thead>\n",
       "    <tr style=\"text-align: right;\">\n",
       "      <th></th>\n",
       "      <th>amin</th>\n",
       "      <th>amax</th>\n",
       "      <th>mean</th>\n",
       "    </tr>\n",
       "    <tr>\n",
       "      <th>account_category</th>\n",
       "      <th></th>\n",
       "      <th></th>\n",
       "      <th></th>\n",
       "    </tr>\n",
       "  </thead>\n",
       "  <tbody>\n",
       "    <tr>\n",
       "      <th>Fearmonger</th>\n",
       "      <td>0</td>\n",
       "      <td>94</td>\n",
       "      <td>57.040000</td>\n",
       "    </tr>\n",
       "    <tr>\n",
       "      <th>LeftTroll</th>\n",
       "      <td>3</td>\n",
       "      <td>54714</td>\n",
       "      <td>2534.774818</td>\n",
       "    </tr>\n",
       "    <tr>\n",
       "      <th>NewsFeed</th>\n",
       "      <td>1</td>\n",
       "      <td>61952</td>\n",
       "      <td>15689.747467</td>\n",
       "    </tr>\n",
       "    <tr>\n",
       "      <th>RightTroll</th>\n",
       "      <td>0</td>\n",
       "      <td>144680</td>\n",
       "      <td>4718.766143</td>\n",
       "    </tr>\n",
       "  </tbody>\n",
       "</table>\n",
       "</div>"
      ],
      "text/plain": [
       "                  amin    amax          mean\n",
       "account_category                            \n",
       "Fearmonger           0      94     57.040000\n",
       "LeftTroll            3   54714   2534.774818\n",
       "NewsFeed             1   61952  15689.747467\n",
       "RightTroll           0  144680   4718.766143"
      ]
     },
     "execution_count": 20,
     "metadata": {},
     "output_type": "execute_result"
    }
   ],
   "source": [
    "# Summary of followers for different account categories\n",
    "df.groupby('account_category')['followers'].agg([pd.np.min, pd.np.max, pd.np.mean])"
   ]
  },
  {
   "cell_type": "markdown",
   "metadata": {},
   "source": [
    "### 5. insight and Policy Decisions\n",
    "This is the section of the data life cycle where we utilize our analysis to draw conclusions about the use of Russian bot tweets.\n",
    "\n",
    "Based on our observations and analysis, we suggest that:\n",
    "1. Russian bot tweets were used in the 2016 Election to influence people to vote for Trump.  The overwhelming majority of tweets were from Right leaning trolls and mentioned Trump.\n",
    "2. Even though interference in the 2016 Election is the main focal point for recent news stories, Russian bot tweets pushing a pro-Trump agenda are actually more prevalent today.\n",
    "3. Based on simple stats analysis on number of followers, a right Troll is likely to have more followers than a left troll.  Regardless of affiliation, the number of followers for these bot accounts is troubling.\n",
    "\n",
    "We can use this data to further inform the American public of the disinformation campaign by the Russian government and to advocate the need for critical thinking when reading a tweet (to realize if it is from a Russian bot).  Furthermore, this data can be used to show the need for better recognition techniques for social media sites to prevent bots of this nature and for the American government to take steps in order to prevent this and maintain free elections."
   ]
  }
 ],
 "metadata": {
  "kernelspec": {
   "display_name": "Python 3",
   "language": "python",
   "name": "python3"
  },
  "language_info": {
   "codemirror_mode": {
    "name": "ipython",
    "version": 3
   },
   "file_extension": ".py",
   "mimetype": "text/x-python",
   "name": "python",
   "nbconvert_exporter": "python",
   "pygments_lexer": "ipython3",
   "version": "3.6.5"
  }
 },
 "nbformat": 4,
 "nbformat_minor": 2
}
