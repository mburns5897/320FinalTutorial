{
 "cells": [
  {
   "cell_type": "code",
   "execution_count": 2,
   "metadata": {},
   "outputs": [],
   "source": [
    "import pandas as pd"
   ]
  },
  {
   "cell_type": "code",
   "execution_count": 3,
   "metadata": {},
   "outputs": [],
   "source": [
    "df1 = pd.read_csv('https://query.data.world/s/vra447dgdpohq4qkuxwijpqoeargjc')\n",
    "df2 = pd.read_csv('https://query.data.world/s/hyrk2djnl3o4v5yqujcv4rpcihoipk')\n",
    "df3 = pd.read_csv('https://query.data.world/s/7qv3bcj7nsedi7zlhcelsh5elrqr3v')\n",
    "df4 = pd.read_csv('https://query.data.world/s/n3cv4borqqb7cwmzjvxqu76xykncar')\n",
    "df5 = pd.read_csv('https://query.data.world/s/v7uungne76gxhzfthw5b5gqlycl3fx')\n",
    "df6 = pd.read_csv('https://query.data.world/s/7vql53vrwph5g2hrkb6hdpdyfshnsb')\n",
    "df7 = pd.read_csv('https://query.data.world/s/mpik75woezhczxttcilmy5jz2gppx6')\n",
    "df8 = pd.read_csv('https://query.data.world/s/526rhgk3f4nz4d2agfhobhgfasffhm')\n",
    "df9 = pd.read_csv('https://query.data.world/s/qtfabexnby575a2dsnwya22v3ba36z')\n",
    "\n",
    "\n",
    "df_full = pd.DataFrame(df1)\n",
    "df_full = df_full.append(df2)\n",
    "df_full = df_full.append(df3)\n",
    "df_full = df_full.append(df4)\n",
    "df_full = df_full.append(df5)\n",
    "df_full = df_full.append(df6)\n",
    "df_full = df_full.append(df7)\n",
    "df_full = df_full.append(df8)\n",
    "df_full = df_full.append(df9)\n",
    "\n",
    "df = df_full.sample(n=100000)\n",
    "\n",
    "df.to_csv('data.csv')"
   ]
  }
 ],
 "metadata": {
  "kernelspec": {
   "display_name": "Python 3",
   "language": "python",
   "name": "python3"
  },
  "language_info": {
   "codemirror_mode": {
    "name": "ipython",
    "version": 3
   },
   "file_extension": ".py",
   "mimetype": "text/x-python",
   "name": "python",
   "nbconvert_exporter": "python",
   "pygments_lexer": "ipython3",
   "version": "3.6.5"
  }
 },
 "nbformat": 4,
 "nbformat_minor": 2
}
