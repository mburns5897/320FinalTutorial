{
 "cells": [
  {
   "cell_type": "code",
   "execution_count": 1,
   "metadata": {},
   "outputs": [],
   "source": [
    "## Load Data -> Data downloaded from https://data.world/fivethirtyeight/russian-troll-tweets\n",
    "\n",
    "# TODO Remove unused columns"
   ]
  },
  {
   "cell_type": "code",
   "execution_count": 2,
   "metadata": {},
   "outputs": [],
   "source": [
    "import pandas as pd\n",
    "import numpy as np\n",
    "import io\n",
    "import matplotlib\n",
    "import requests\n",
    "import re"
   ]
  },
  {
   "cell_type": "code",
   "execution_count": 36,
   "metadata": {},
   "outputs": [
    {
     "name": "stdout",
     "output_type": "stream",
     "text": [
      "       Unnamed: 0  external_author_id           author  \\\n",
      "0          131642        1.512372e+09  CATELINEWATKINS   \n",
      "1          272846        2.611151e+09     SEATTLE_POST   \n",
      "2          277728        2.620614e+09   PHILADELPHIAON   \n",
      "3          163829        8.980000e+17      CHARMEESTRS   \n",
      "4          243436        3.272641e+09          EXQUOTE   \n",
      "5          281917        2.611151e+09     SEATTLE_POST   \n",
      "6           61300        1.914761e+09    RAVENICHOLSON   \n",
      "7          207341        4.440342e+09  ARGENTINACATLE1   \n",
      "8          202716        2.570017e+09    ONLINEMEMPHIS   \n",
      "9           13368        2.329890e+09        POLITKACH   \n",
      "10         387417        1.661246e+09    KATERITTERRRR   \n",
      "11         215343        2.943515e+09    SCREAMYMONKEY   \n",
      "12          78942        2.591848e+09    TODAYBOSTONMA   \n",
      "13         200944        2.547142e+09  CHICAGODAILYNEW   \n",
      "14         108447        3.899482e+09     TODAYINSYRIA   \n",
      "15          35399        1.868496e+09    BRIANAREGLAND   \n",
      "16         203757        8.910000e+17        ARAGARTRR   \n",
      "17          28046        8.150000e+17         KOLNBOTE   \n",
      "18         130406        2.527805e+09   ROMANAGAFONOVV   \n",
      "19         297443        1.645969e+09       FIGHTM_D_B   \n",
      "20         249433        3.272641e+09          EXQUOTE   \n",
      "21            277        1.930748e+09        NEVNOV_RU   \n",
      "22         291425        2.882332e+09      JENN_ABRAMS   \n",
      "23         273868        2.611151e+09     SEATTLE_POST   \n",
      "24         234181        3.900319e+09      MIDEASTVIEW   \n",
      "25         361319        1.685772e+09    STANLEYPARRIS   \n",
      "26          55501        2.535819e+09  HAPPKENDRAHAPPY   \n",
      "27         274575        1.710805e+09       COOKNCOOKS   \n",
      "28         162971        1.681425e+09  MARISSAIMSTRONG   \n",
      "29         261569        1.655816e+09      JEANUTTELLA   \n",
      "...           ...                 ...              ...   \n",
      "99970      109374        1.679279e+09    AMELIEBALDWIN   \n",
      "99971       13160        2.589513e+09         ZUBOVNIK   \n",
      "99972      207515        2.563075e+09       MED_HARLEY   \n",
      "99973      272808        9.055140e+17     JEMISHAAAZZZ   \n",
      "99974       23483        1.652139e+09         ACEJINEV   \n",
      "99975      308794        3.254274e+09         FINDDIET   \n",
      "99976       28867        1.533814e+09  PRETTYLARAPLACE   \n",
      "99977      172504        2.498272e+09     INTERFISCHER   \n",
      "99978      341829        7.890000e+17    WORLDNEWSPOLI   \n",
      "99979      247889        2.577151e+09   MILIMILLENNIUM   \n",
      "99980      326996        3.254274e+09         FINDDIET   \n",
      "99981      166572        8.950000e+17        ANIIANTRS   \n",
      "99982      339135        4.496897e+08    KADIROVRUSSIA   \n",
      "99983      156888        2.536836e+09         OH_FRIDA   \n",
      "99984      181952        2.514605e+09        ANNY_DUBI   \n",
      "99985      284180        7.431670e+17  COVFEFENATIONUS   \n",
      "99986      232877        1.690488e+09     MICHELLEARRY   \n",
      "99987      165573        8.920000e+17         ELINSSTR   \n",
      "99988      270998        2.620614e+09   PHILADELPHIAON   \n",
      "99989      276889        3.272641e+09          EXQUOTE   \n",
      "99990       37485        3.093874e+09  _YOUR_LIFESTYLE   \n",
      "99991      220542        1.706657e+09   JANELPERKINSON   \n",
      "99992      103386        1.679279e+09    AMELIEBALDWIN   \n",
      "99993      219630        2.606802e+09  JAMIE_MCCARTHY_   \n",
      "99994      166577        2.805473e+09   OLD_NEW_POLICY   \n",
      "99995      218196        2.587126e+09       EUGENELLLL   \n",
      "99996       18058        2.912754e+09       POLITWEECS   \n",
      "99997      320399        2.951540e+09       NATPOLNEWS   \n",
      "99998       30844        8.920000e+17        DANISSTRS   \n",
      "99999      196624        1.685718e+09       J0HNLARSEN   \n",
      "\n",
      "                                                 content  \\\n",
      "0                    #ThingsYouCantIgnore Morning breath   \n",
      "1      Quarterback Everett Golson to transfer from No...   \n",
      "2      PA House Approves Bill Cracking Down On ‘Stop-...   \n",
      "3      ‘Tyranny of Political Correctness’ Forced Boy ...   \n",
      "4      http://t.co/yeGVLw5A9C About to Eat then Go Wo...   \n",
      "5      Spanaway bank closed after employees say subst...   \n",
      "6      Looking forward to reading this. https://t.co/...   \n",
      "7      HOT MORNING GOSSIP - @MileyCyrus, Wild Child, ...   \n",
      "8      Robert Arnold's cousin fired from Rutherford s...   \n",
      "9      Информатор WikiLeaks Челси Мэннинг попыталась ...   \n",
      "10     Watch: Milwaukee Police Chief Edward Flynn Spe...   \n",
      "11     U.N. rights envoy urges Iran to free three dua...   \n",
      "12     Weymouth man charged with raping boy, 5 https:...   \n",
      "13     Firefighters sue siren maker over their hearin...   \n",
      "14     Syrian detainee Majed Farhan al-Shaer free aft...   \n",
      "15     We will spend more time discussing Trump's pus...   \n",
      "16     #ara BOOM! Abbott Just Dealt a DEADLY BLOW to ...   \n",
      "17     Live-Stream: Angela Merkel spricht beim IHK-Ne...   \n",
      "18     Оппозиция подтвердила свое участие в переговор...   \n",
      "19     Good question #Blacktwitter https://t.co/pookm...   \n",
      "20     http://t.co/p7qdzGFmYB The post workout feelin...   \n",
      "21     На Дороге жизни сбили лосиху https://t.co/4VRi...   \n",
      "22     Perfect hot new designs for #ConfederateFlag h...   \n",
      "23     APNewsbreak: Desert race through Nevada monume...   \n",
      "24     #إنترفاكس: #روسيا تنوي تطوير قواعدها الجوية وا...   \n",
      "25     While visiting Trump's White House, this NFL p...   \n",
      "26     When news channels (MSM) becomes promoters of ...   \n",
      "27     UNCW coach Mark Scalf says LSU will challenge ...   \n",
      "28     Friday, FBI trying to keep track of 48 known I...   \n",
      "29     6 Reasons Indie Artists Fail https://t.co/Rhc1...   \n",
      "...                                                  ...   \n",
      "99970  Maslow’s Hierarchy of Needs Is Incomplete — Th...   \n",
      "99971  Карикатура на турков времён Первой мировой вой...   \n",
      "99972  Волшебный день рождения любимой нами @tina_kan...   \n",
      "99973  In a more decent country Roy Moore would be in...   \n",
      "99974  Thanks hun :) Appreciate ya!!❤️RT @MsNaomi5 @M...   \n",
      "99975  http://t.co/sc3tcmOmyV Love after workout brea...   \n",
      "99976  If there is anyone left who respects @megynkel...   \n",
      "99977  .@JackPosobiec on #Periscope: CIA Attempts Tru...   \n",
      "99978  BREAKING : Jeff Sessions to Tour Southern Bord...   \n",
      "99979         Отпуск на Земле �� https://t.co/xXl2iSJHI3   \n",
      "99980  K9DevelopmentCentre @K9DCSurrey Daftdog @dwd_h...   \n",
      "99981  RT Breaking911: Indictment: Child Pornography ...   \n",
      "99982  Навальный притянул Лебедева за коррупцию, хотя...   \n",
      "99983  Если кто-то спросит, почему собака лучший друг...   \n",
      "99984  #Осознание@rus_improvisation https://t.co/AGWM...   \n",
      "99985  WHEN DO BIRDS SING?  👉 When they are given IMM...   \n",
      "99986  Things to Know About the California Oil Spill ...   \n",
      "99987  RT SpecialKMB1969: steph93065 jpodhoretz Wasn'...   \n",
      "99988  Neshaminy appeals to state Supreme Court to ke...   \n",
      "99989  .@MarkAttwood Mark @IzzyCharlieDans isobelle @...   \n",
      "99990  Джереми Кларксон будет вести автошоу на Amazon...   \n",
      "99991  Get $0.05 for every download. $5.00 for every ...   \n",
      "99992  Retweet and Like if this man needs to be held ...   \n",
      "99993  '@JMontanaPOTL @Shooters_Wife @PatriotBrother ...   \n",
      "99994  ОХ, УЖ ЭТИ ДЕТИ ... https://t.co/1TLIccrCeA ht...   \n",
      "99995  На Украине конфликт в гостях закончился взрыво...   \n",
      "99996  #Authorities investigate crash that killed #Co...   \n",
      "99997  A man who toted two throwing knives and claime...   \n",
      "99998  RT _tyratucker_: I see so much vial and shamef...   \n",
      "99999  I'm sure that high level of surveillance is no...   \n",
      "\n",
      "                     region   language      publish_date    harvested_date  \\\n",
      "0             United States    English  12/19/2016 15:56  12/19/2016 15:56   \n",
      "1             United States    English    5/7/2015 19:08    5/7/2015 19:08   \n",
      "2             United States    English   6/27/2017 21:29   6/27/2017 21:29   \n",
      "3                   Unknown    English  10/12/2017 12:22  10/12/2017 12:22   \n",
      "4             United States    English    7/16/2015 9:40    7/16/2015 9:40   \n",
      "5             United States    English    9/19/2015 2:43    9/19/2015 2:43   \n",
      "6             United States    English   11/30/2016 1:30   11/30/2016 1:30   \n",
      "7             United States    English   5/25/2016 13:06   5/25/2016 13:07   \n",
      "8             United States    English     1/7/2017 4:04     1/7/2017 4:04   \n",
      "9      United Arab Emirates      Uzbek    7/7/2016 10:45    7/7/2016 10:45   \n",
      "10            United States    English    9/18/2016 6:38    9/18/2016 6:38   \n",
      "11            United States    English   10/7/2016 16:26   10/7/2016 16:26   \n",
      "12            United States    English   1/11/2017 14:41   1/11/2017 14:41   \n",
      "13            United States    English   12/21/2015 3:26   12/21/2015 3:26   \n",
      "14           United Kingdom    English   1/13/2016 18:11   1/13/2016 18:11   \n",
      "15            United States    English    10/8/2016 2:32    10/8/2016 2:32   \n",
      "16            United States    English   8/16/2017 14:34   8/16/2017 14:34   \n",
      "17                  Germany     German   1/16/2017 18:46   1/16/2017 18:46   \n",
      "18               Azerbaijan    Russian     5/2/2017 4:04     5/2/2017 4:04   \n",
      "19            United States    English   3/13/2016 15:27   3/13/2016 15:27   \n",
      "20            United States    English    7/25/2015 5:40    7/25/2015 5:40   \n",
      "21            United States    Russian     7/1/2016 3:24     7/1/2016 7:14   \n",
      "22            United States    English   7/10/2015 17:38   7/10/2015 17:38   \n",
      "23            United States    English    6/13/2016 8:51    6/13/2016 8:51   \n",
      "24              Afghanistan     Arabic   1/16/2017 14:15   1/16/2017 14:15   \n",
      "25            United States    English   4/24/2017 10:45   4/24/2017 10:45   \n",
      "26            United States    English   1/22/2017 17:09   1/22/2017 17:09   \n",
      "27            United States    English    6/1/2015 20:40    6/1/2015 20:40   \n",
      "28            United States    English  11/28/2015 13:34  11/28/2015 13:34   \n",
      "29            United States    English   10/6/2016 20:37   10/6/2016 20:38   \n",
      "...                     ...        ...               ...               ...   \n",
      "99970         United States    English  12/31/2016 18:53  12/31/2016 18:53   \n",
      "99971               Unknown    Russian   11/25/2015 9:50   11/25/2015 9:57   \n",
      "99972            Azerbaijan    Russian  11/12/2016 22:41  11/12/2016 22:41   \n",
      "99973         United States    English  11/20/2017 18:30  11/20/2017 18:32   \n",
      "99974         United States    English   4/15/2017 18:19   4/15/2017 18:19   \n",
      "99975         United States    English   7/27/2015 17:52   7/27/2015 17:52   \n",
      "99976         United States    English     2/4/2017 7:03     2/4/2017 7:04   \n",
      "99977         United States    English  12/10/2016 14:24  12/10/2016 14:24   \n",
      "99978               Unknown    English    4/8/2017 12:33    4/8/2017 12:33   \n",
      "99979            Azerbaijan    Russian   12/20/2016 8:11   12/20/2016 8:11   \n",
      "99980         United States    English    8/7/2015 17:52    8/7/2015 17:52   \n",
      "99981               Unknown    English    8/17/2017 4:08    8/17/2017 4:08   \n",
      "99982         United States     Arabic   1/26/2017 16:20   1/26/2017 16:29   \n",
      "99983               Unknown    Russian  10/26/2016 19:16  10/26/2016 19:16   \n",
      "99984               Unknown  Bulgarian   12/13/2015 8:36   12/13/2015 8:36   \n",
      "99985         United States    English   11/15/2017 7:08   11/15/2017 7:08   \n",
      "99986         United States    English    6/1/2015 23:28    6/1/2015 23:28   \n",
      "99987               Unknown    English    8/2/2017 20:33    8/2/2017 20:33   \n",
      "99988         United States    English   12/8/2016 19:35   12/8/2016 19:35   \n",
      "99989         United States    English    8/25/2015 8:50    8/25/2015 8:50   \n",
      "99990               Unknown    Russian    8/30/2015 1:46    8/30/2015 1:46   \n",
      "99991         United States    English   2/25/2016 14:34   2/25/2016 14:34   \n",
      "99992         United States    English  11/13/2016 10:57  11/13/2016 10:57   \n",
      "99993         United States     French  12/25/2015 15:23  12/25/2015 15:23   \n",
      "99994               Unknown    Russian    2/27/2017 4:05    2/27/2017 4:05   \n",
      "99995            Azerbaijan    Russian    9/5/2015 22:13    9/5/2015 22:13   \n",
      "99996         United States    English   7/21/2015 13:00   7/21/2015 13:01   \n",
      "99997         United States    English    7/8/2017 22:06    7/8/2017 22:06   \n",
      "99998               Unknown    English    8/17/2017 0:12    8/17/2017 0:12   \n",
      "99999         United States    English    6/2/2015 18:32    6/2/2015 18:32   \n",
      "\n",
      "       following  followers  updates post_type account_type  new_june_2018  \\\n",
      "0           2618       2589     2752       NaN    Hashtager              0   \n",
      "1           7003      11483     4795       NaN        local              0   \n",
      "2           7841      16786    18573       NaN        local              0   \n",
      "3           4754       1996     2156       NaN        Right              0   \n",
      "4              2        291    14190       NaN   Commercial              1   \n",
      "5           9355      12867    11428       NaN        local              0   \n",
      "6            853        800     2348   RETWEET         left              0   \n",
      "7            299         20      474   RETWEET         left              1   \n",
      "8           5719      18612     5519       NaN        local              0   \n",
      "9            551       8977     3959       NaN      Russian              0   \n",
      "10           833       1429     3369   RETWEET        Right              0   \n",
      "11         14060      13222    44610       NaN         news              0   \n",
      "12          5080      15271    12753       NaN        local              0   \n",
      "13          7724      14385    35728       NaN        local              0   \n",
      "14          7043      16423     2059       NaN         news              0   \n",
      "15           415        761     1806   RETWEET         left              0   \n",
      "16          3871       1329      930       NaN        Right              0   \n",
      "17           498         16       81       NaN       German              0   \n",
      "18           376       2203     4202   RETWEET      Russian              0   \n",
      "19           500        283     1150   RETWEET         left              0   \n",
      "20             2        277    19606       NaN   Commercial              1   \n",
      "21         17238      24968    28543       NaN      Russian              0   \n",
      "22          5063      26511     4380       NaN        Right              0   \n",
      "23          9152      16474    25764       NaN        local              0   \n",
      "24          1636       3594    11624       NaN       Arabic              0   \n",
      "25          1106        814     4714   RETWEET         left              0   \n",
      "26          1752       1793     4340   RETWEET        Right              0   \n",
      "27            29        114      820   RETWEET        Right              0   \n",
      "28           740        409     1026   RETWEET        Right              0   \n",
      "29           954        998     2197   RETWEET         left              0   \n",
      "...          ...        ...      ...       ...          ...            ...   \n",
      "99970       2354       2692    23929   RETWEET        Right              0   \n",
      "99971       1490      22776    15044       NaN      Russian              0   \n",
      "99972        518         93     1504   RETWEET      Russian              0   \n",
      "99973       5154       6014     1177       NaN         left              1   \n",
      "99974        783        923     5895   RETWEET         left              0   \n",
      "99975          3        134    13916       NaN   Commercial              1   \n",
      "99976       1798       1867     5104   RETWEET        Right              0   \n",
      "99977       1810       1635     1129   RETWEET        Right              0   \n",
      "99978       4311       3035    21803       NaN        Right              0   \n",
      "99979        108        106     4071   RETWEET      Russian              0   \n",
      "99980          3        227    24038       NaN   Commercial              1   \n",
      "99981         38          7     1769       NaN        Right              0   \n",
      "99982          9      96696    11602       NaN      Russian              0   \n",
      "99983        120         89      765   RETWEET      Spanish              0   \n",
      "99984        132        131     2694   RETWEET      Russian              1   \n",
      "99985        247       2179   146784   RETWEET        Right              1   \n",
      "99986         75        232      827   RETWEET        Right              0   \n",
      "99987        999        619      493       NaN        Right              0   \n",
      "99988       5880      15890     9972       NaN        local              0   \n",
      "99989          2        708    52666       NaN   Commercial              1   \n",
      "99990         60          4      394       NaN      Russian              0   \n",
      "99991        376        317      887       NaN         left              0   \n",
      "99992       2385       2548    17759   RETWEET        Right              0   \n",
      "99993        793        369      554   RETWEET        Right              0   \n",
      "99994        539        763    15439       NaN      Russian              0   \n",
      "99995        396        166     1839   RETWEET      Russian              1   \n",
      "99996      13486      15361     3206       NaN        Right              0   \n",
      "99997       6385      11420       34       NaN        Right              0   \n",
      "99998       2564        699     2902       NaN        Right              0   \n",
      "99999         49        136      895       NaN        Right              0   \n",
      "\n",
      "       retweet account_category  \n",
      "0            0     HashtagGamer  \n",
      "1            0         NewsFeed  \n",
      "2            0         NewsFeed  \n",
      "3            0       RightTroll  \n",
      "4            0       Commercial  \n",
      "5            0         NewsFeed  \n",
      "6            1        LeftTroll  \n",
      "7            1        LeftTroll  \n",
      "8            0         NewsFeed  \n",
      "9            0       NonEnglish  \n",
      "10           1       RightTroll  \n",
      "11           0         NewsFeed  \n",
      "12           0         NewsFeed  \n",
      "13           0         NewsFeed  \n",
      "14           0         NewsFeed  \n",
      "15           1        LeftTroll  \n",
      "16           0       RightTroll  \n",
      "17           0       NonEnglish  \n",
      "18           1       NonEnglish  \n",
      "19           1        LeftTroll  \n",
      "20           0       Commercial  \n",
      "21           0       NonEnglish  \n",
      "22           0       RightTroll  \n",
      "23           0         NewsFeed  \n",
      "24           0       NonEnglish  \n",
      "25           1        LeftTroll  \n",
      "26           1       RightTroll  \n",
      "27           1       RightTroll  \n",
      "28           1       RightTroll  \n",
      "29           1        LeftTroll  \n",
      "...        ...              ...  \n",
      "99970        1       RightTroll  \n",
      "99971        0       NonEnglish  \n",
      "99972        1       NonEnglish  \n",
      "99973        0        LeftTroll  \n",
      "99974        1        LeftTroll  \n",
      "99975        0       Commercial  \n",
      "99976        1       RightTroll  \n",
      "99977        1       RightTroll  \n",
      "99978        0       RightTroll  \n",
      "99979        1       NonEnglish  \n",
      "99980        0       Commercial  \n",
      "99981        0       RightTroll  \n",
      "99982        0       NonEnglish  \n",
      "99983        1       NonEnglish  \n",
      "99984        1       NonEnglish  \n",
      "99985        1       RightTroll  \n",
      "99986        1       RightTroll  \n",
      "99987        0       RightTroll  \n",
      "99988        0         NewsFeed  \n",
      "99989        0       Commercial  \n",
      "99990        0       NonEnglish  \n",
      "99991        0        LeftTroll  \n",
      "99992        1       RightTroll  \n",
      "99993        1       RightTroll  \n",
      "99994        0       NonEnglish  \n",
      "99995        1       NonEnglish  \n",
      "99996        0       RightTroll  \n",
      "99997        0       RightTroll  \n",
      "99998        0       RightTroll  \n",
      "99999        0       RightTroll  \n",
      "\n",
      "[100000 rows x 16 columns]\n"
     ]
    }
   ],
   "source": [
    "df = pd.read_csv('data.csv')\n",
    "print(df)"
   ]
  },
  {
   "cell_type": "code",
   "execution_count": 35,
   "metadata": {},
   "outputs": [
    {
     "name": "stdout",
     "output_type": "stream",
     "text": [
      "{1}\n"
     ]
    }
   ],
   "source": [
    "# Use regex to figure out if the tweet mentions a few relevant political figures \n",
    "\n",
    "trump_regex = re.compile(r'(Donald|Trump)')\n",
    "hill_regex = re.compile(r'(Hillary|Clinton)')\n",
    "bernie_regex = re.compile(r'(Bernie)')\n",
    "obama_regex = re.compile(r'(Obama)')\n",
    "cruz_regex = re.compile(r'(Ted Cruz|Cruz)')\n",
    "beto_regex = re.compile(r'(Beto|O\\'Rourke)')\n",
    "\n",
    "for i, row in df.iterrows():\n",
    "    df.at[i, 'mention'] = ''\n",
    "    search_string = str(row['content'])\n",
    "    if re.search(trump_regex, search_string):\n",
    "        df.at[i, 'mention'] = df.at[i, 'mention'] + 'Trump '\n",
    "    if re.search(hill_regex, search_string):\n",
    "        df.at[i, 'mention'] = df.at[i, 'mention'] + 'Hillary '\n",
    "    if re.search(bernie_regex, search_string):\n",
    "        df.at[i, 'mention'] = df.at[i, 'mention'] + 'Bernie '\n",
    "    if re.search(obama_regex, search_string):\n",
    "        df.at[i, 'mention'] = df.at[i, 'mention'] + 'Obama '\n",
    "    if re.search(cruz_regex, search_string):\n",
    "        df.at[i, 'mention'] = df.at[i, 'mention'] + 'Cruz '\n",
    "    if re.search(beto_regex, search_string):\n",
    "        df.at[i, 'mention'] = df.at[i, 'mention'] + 'Beto '\n",
    "\n",
    "for i, row in df.iterrows():\n",
    "    if df.at[i,'mention'] is '':\n",
    "        df.at[i,'mention'] = np.nan\n",
    "df = df.dropna()\n",
    "df = df.reset_index()\n",
    "df = df.drop(labels='index', axis=1)\n"
   ]
  },
  {
   "cell_type": "code",
   "execution_count": 5,
   "metadata": {
    "scrolled": true
   },
   "outputs": [
    {
     "data": {
      "image/png": "[encoded data removed]",
      "text/plain": [
       "<Figure size 1008x576 with 1 Axes>"
      ]
     },
     "metadata": {
      "needs_background": "light"
     },
     "output_type": "display_data"
    }
   ],
   "source": [
    "%matplotlib inline\n",
    "ax = df.groupby(by='mention')['mention'].count().plot.bar(title=\"Number of Tweets Mentioning Politicians\", figsize=(14,8))\n",
    "_ = ax.set_xlabel('Mention')\n",
    "_ = ax.set_ylabel('Frequency')\n",
    "\n",
    "\n"
   ]
  },
  {
   "cell_type": "code",
   "execution_count": 6,
   "metadata": {
    "scrolled": true
   },
   "outputs": [
    {
     "data": {
      "image/png": "[encoded data removed]",
      "text/plain": [
       "<Figure size 1152x720 with 1 Axes>"
      ]
     },
     "metadata": {
      "needs_background": "light"
     },
     "output_type": "display_data"
    }
   ],
   "source": [
    "df = df[df.account_category != 'HashtagGamer']\n",
    "df = df[df.account_category != 'Commercial']\n",
    "df = df[df.account_category != 'Unknown']\n",
    "df = df[df.account_category != 'NonEnglish']\n",
    "ax = df.groupby(['account_category', 'mention'])['mention'].count().plot.bar(title=\"Number for each Owner Name\", figsize=(16,10))\n"
   ]
  },
  {
   "cell_type": "code",
   "execution_count": 7,
   "metadata": {},
   "outputs": [
    {
     "data": {
      "image/png": "[encoded data removed]",
      "text/plain": [
       "<Figure size 1008x576 with 1 Axes>"
      ]
     },
     "metadata": {
      "needs_background": "light"
     },
     "output_type": "display_data"
    }
   ],
   "source": [
    "election_df = df[df['mention'].str.contains(\"Trump|Hillary|Bernie\")==True]\n",
    "\n",
    "%matplotlib inline\n",
    "ax = df.groupby(by='mention')['mention'].count().plot.bar(title=\"Number of Tweets Mentioning Politicians in the 2016 Election\", figsize=(14,8))\n",
    "_ = ax.set_xlabel('Mention')\n",
    "_ = ax.set_ylabel('Frequency')"
   ]
  },
  {
   "cell_type": "code",
   "execution_count": 8,
   "metadata": {},
   "outputs": [
    {
     "data": {
      "image/png": "[encoded data removed]",
      "text/plain": [
       "<Figure size 1008x576 with 1 Axes>"
      ]
     },
     "metadata": {
      "needs_background": "light"
     },
     "output_type": "display_data"
    }
   ],
   "source": [
    "ax = election_df.groupby(['account_category', 'mention'])['mention'].count().plot.bar(title=\"Mentions with Account Category\", figsize=(14,8))"
   ]
  },
  {
   "cell_type": "code",
   "execution_count": 9,
   "metadata": {},
   "outputs": [
    {
     "data": {
      "text/html": [
       "<div>\n",
       "<style scoped>\n",
       "    .dataframe tbody tr th:only-of-type {\n",
       "        vertical-align: middle;\n",
       "    }\n",
       "\n",
       "    .dataframe tbody tr th {\n",
       "        vertical-align: top;\n",
       "    }\n",
       "\n",
       "    .dataframe thead th {\n",
       "        text-align: right;\n",
       "    }\n",
       "</style>\n",
       "<table border=\"1\" class=\"dataframe\">\n",
       "  <thead>\n",
       "    <tr style=\"text-align: right;\">\n",
       "      <th></th>\n",
       "      <th>index</th>\n",
       "      <th>Unnamed: 0</th>\n",
       "      <th>external_author_id</th>\n",
       "      <th>author</th>\n",
       "      <th>content</th>\n",
       "      <th>region</th>\n",
       "      <th>language</th>\n",
       "      <th>publish_date</th>\n",
       "      <th>harvested_date</th>\n",
       "      <th>following</th>\n",
       "      <th>followers</th>\n",
       "      <th>updates</th>\n",
       "      <th>post_type</th>\n",
       "      <th>account_type</th>\n",
       "      <th>new_june_2018</th>\n",
       "      <th>retweet</th>\n",
       "      <th>account_category</th>\n",
       "      <th>mention</th>\n",
       "      <th>score</th>\n",
       "    </tr>\n",
       "  </thead>\n",
       "  <tbody>\n",
       "    <tr>\n",
       "      <th>0</th>\n",
       "      <td>15</td>\n",
       "      <td>35399</td>\n",
       "      <td>1.868496e+09</td>\n",
       "      <td>BRIANAREGLAND</td>\n",
       "      <td>We will spend more time discussing Trump's pus...</td>\n",
       "      <td>United States</td>\n",
       "      <td>English</td>\n",
       "      <td>10/8/2016 2:32</td>\n",
       "      <td>10/8/2016 2:32</td>\n",
       "      <td>415</td>\n",
       "      <td>761</td>\n",
       "      <td>1806</td>\n",
       "      <td>RETWEET</td>\n",
       "      <td>left</td>\n",
       "      <td>0</td>\n",
       "      <td>1</td>\n",
       "      <td>LeftTroll</td>\n",
       "      <td>Trump</td>\n",
       "      <td>-1.0</td>\n",
       "    </tr>\n",
       "    <tr>\n",
       "      <th>1</th>\n",
       "      <td>25</td>\n",
       "      <td>361319</td>\n",
       "      <td>1.685772e+09</td>\n",
       "      <td>STANLEYPARRIS</td>\n",
       "      <td>While visiting Trump's White House, this NFL p...</td>\n",
       "      <td>United States</td>\n",
       "      <td>English</td>\n",
       "      <td>4/24/2017 10:45</td>\n",
       "      <td>4/24/2017 10:45</td>\n",
       "      <td>1106</td>\n",
       "      <td>814</td>\n",
       "      <td>4714</td>\n",
       "      <td>RETWEET</td>\n",
       "      <td>left</td>\n",
       "      <td>0</td>\n",
       "      <td>1</td>\n",
       "      <td>LeftTroll</td>\n",
       "      <td>Trump Obama</td>\n",
       "      <td>0.0</td>\n",
       "    </tr>\n",
       "    <tr>\n",
       "      <th>2</th>\n",
       "      <td>28</td>\n",
       "      <td>162971</td>\n",
       "      <td>1.681425e+09</td>\n",
       "      <td>MARISSAIMSTRONG</td>\n",
       "      <td>Friday, FBI trying to keep track of 48 known I...</td>\n",
       "      <td>United States</td>\n",
       "      <td>English</td>\n",
       "      <td>11/28/2015 13:34</td>\n",
       "      <td>11/28/2015 13:34</td>\n",
       "      <td>740</td>\n",
       "      <td>409</td>\n",
       "      <td>1026</td>\n",
       "      <td>RETWEET</td>\n",
       "      <td>Right</td>\n",
       "      <td>0</td>\n",
       "      <td>1</td>\n",
       "      <td>RightTroll</td>\n",
       "      <td>Obama</td>\n",
       "      <td>-1.0</td>\n",
       "    </tr>\n",
       "    <tr>\n",
       "      <th>3</th>\n",
       "      <td>67</td>\n",
       "      <td>31281</td>\n",
       "      <td>1.533814e+09</td>\n",
       "      <td>PRETTYLARAPLACE</td>\n",
       "      <td>As #Trump surges in the polls #Democrats are s...</td>\n",
       "      <td>United States</td>\n",
       "      <td>English</td>\n",
       "      <td>9/16/2016 18:13</td>\n",
       "      <td>9/16/2016 18:13</td>\n",
       "      <td>1367</td>\n",
       "      <td>1798</td>\n",
       "      <td>2097</td>\n",
       "      <td>RETWEET</td>\n",
       "      <td>Right</td>\n",
       "      <td>0</td>\n",
       "      <td>1</td>\n",
       "      <td>RightTroll</td>\n",
       "      <td>Trump</td>\n",
       "      <td>1.0</td>\n",
       "    </tr>\n",
       "    <tr>\n",
       "      <th>4</th>\n",
       "      <td>76</td>\n",
       "      <td>119991</td>\n",
       "      <td>1.720117e+09</td>\n",
       "      <td>DONNABRIVERA</td>\n",
       "      <td>Clinton's supporters do not like democracy. Lo...</td>\n",
       "      <td>United States</td>\n",
       "      <td>English</td>\n",
       "      <td>11/10/2016 16:11</td>\n",
       "      <td>11/10/2016 16:11</td>\n",
       "      <td>2026</td>\n",
       "      <td>1690</td>\n",
       "      <td>2792</td>\n",
       "      <td>RETWEET</td>\n",
       "      <td>Right</td>\n",
       "      <td>0</td>\n",
       "      <td>1</td>\n",
       "      <td>RightTroll</td>\n",
       "      <td>Trump Hillary</td>\n",
       "      <td>0.0</td>\n",
       "    </tr>\n",
       "  </tbody>\n",
       "</table>\n",
       "</div>"
      ],
      "text/plain": [
       "   index  Unnamed: 0  external_author_id           author  \\\n",
       "0     15       35399        1.868496e+09    BRIANAREGLAND   \n",
       "1     25      361319        1.685772e+09    STANLEYPARRIS   \n",
       "2     28      162971        1.681425e+09  MARISSAIMSTRONG   \n",
       "3     67       31281        1.533814e+09  PRETTYLARAPLACE   \n",
       "4     76      119991        1.720117e+09     DONNABRIVERA   \n",
       "\n",
       "                                             content         region language  \\\n",
       "0  We will spend more time discussing Trump's pus...  United States  English   \n",
       "1  While visiting Trump's White House, this NFL p...  United States  English   \n",
       "2  Friday, FBI trying to keep track of 48 known I...  United States  English   \n",
       "3  As #Trump surges in the polls #Democrats are s...  United States  English   \n",
       "4  Clinton's supporters do not like democracy. Lo...  United States  English   \n",
       "\n",
       "       publish_date    harvested_date  following  followers  updates  \\\n",
       "0    10/8/2016 2:32    10/8/2016 2:32        415        761     1806   \n",
       "1   4/24/2017 10:45   4/24/2017 10:45       1106        814     4714   \n",
       "2  11/28/2015 13:34  11/28/2015 13:34        740        409     1026   \n",
       "3   9/16/2016 18:13   9/16/2016 18:13       1367       1798     2097   \n",
       "4  11/10/2016 16:11  11/10/2016 16:11       2026       1690     2792   \n",
       "\n",
       "  post_type account_type  new_june_2018  retweet account_category  \\\n",
       "0   RETWEET         left              0        1        LeftTroll   \n",
       "1   RETWEET         left              0        1        LeftTroll   \n",
       "2   RETWEET        Right              0        1       RightTroll   \n",
       "3   RETWEET        Right              0        1       RightTroll   \n",
       "4   RETWEET        Right              0        1       RightTroll   \n",
       "\n",
       "          mention  score  \n",
       "0          Trump    -1.0  \n",
       "1    Trump Obama     0.0  \n",
       "2          Obama    -1.0  \n",
       "3          Trump     1.0  \n",
       "4  Trump Hillary     0.0  "
      ]
     },
     "execution_count": 9,
     "metadata": {},
     "output_type": "execute_result"
    }
   ],
   "source": [
    "right_re = re.compile(r'(Cruz|Trump)')\n",
    "left_re = re.compile(r'(Beto|Hillary|Obama|Bernie)')\n",
    "for i, row in df.iterrows():\n",
    "    mention = str(row.mention)\n",
    "    if re.search(right_re, mention) and re.search(left_re, mention):\n",
    "        df.at[i, 'score'] = 0\n",
    "    elif re.search(right_re, mention) and row.account_category == 'RightTroll':\n",
    "        df.at[i, 'score'] = 1\n",
    "    elif re.search(left_re, mention) and row.account_category == 'LeftTroll': \n",
    "        df.at[i, 'score'] = 1\n",
    "    else:\n",
    "        df.at[i, 'score'] = -1\n",
    "df.head()"
   ]
  },
  {
   "cell_type": "markdown",
   "metadata": {},
   "source": [
    "For our Null-Hypothesis, we hypothesize that the tweets that mention Democratic candidates come from LeftTroll Accounts while tweets that mention Republican candidates come from RightTroll accounts.  In order to score this, we gave each row a value of 1, 0, or -1.  1 For a correct matching, 0 for both candidates being mentioned, and -1 for different sides.  To see what has the majority, we will simply sum the column."
   ]
  },
  {
   "cell_type": "code",
   "execution_count": 10,
   "metadata": {},
   "outputs": [
    {
     "data": {
      "text/plain": [
       "-226.0"
      ]
     },
     "execution_count": 10,
     "metadata": {},
     "output_type": "execute_result"
    }
   ],
   "source": [
    "df['score'].sum(axis=0)"
   ]
  },
  {
   "cell_type": "markdown",
   "metadata": {},
   "source": [
    "This sum indicates that most russian bot tweets mention canidates in opposing political parties than the narrative the accounts are trying to push.  Based on this, we can come to the conclusion that most bot tweets are trying to paint specific canidates in negative light instead of trying to promote the politicians that they align with.  "
   ]
  },
  {
   "cell_type": "code",
   "execution_count": 11,
   "metadata": {},
   "outputs": [],
   "source": [
    "# do another hypothesis test with the goal of showing that the majority of bot tweets are promoting a conservative view point\n",
    "# right troll vs left troll\n",
    "\n",
    "# drop all not mentioning clinton and trump\n",
    "# count number of tweets after election still including clinton\n",
    "\n",
    "# get count of number of negative con tweets (right troll and clinton)\n",
    "# get count of number of pos con tweets (right troll and trump)\n",
    "# get count of number of neg dem tweets (left and trump)\n",
    "# get count of number of pos dem tweets (left and clinton)\n",
    "\n"
   ]
  },
  {
   "cell_type": "code",
   "execution_count": 12,
   "metadata": {},
   "outputs": [
    {
     "data": {
      "text/plain": [
       "885"
      ]
     },
     "execution_count": 12,
     "metadata": {},
     "output_type": "execute_result"
    }
   ],
   "source": [
    "clinton_re = re.compile(r'(Hillary)')\n",
    "\n",
    "count = 0\n",
    "for i, row in df.iterrows():\n",
    "    if re.search(clinton_re, row['mention']) and row['account_category'] == 'RightTroll':\n",
    "        count += 1\n",
    "count"
   ]
  },
  {
   "cell_type": "code",
   "execution_count": 13,
   "metadata": {},
   "outputs": [
    {
     "data": {
      "text/plain": [
       "1555"
      ]
     },
     "execution_count": 13,
     "metadata": {},
     "output_type": "execute_result"
    }
   ],
   "source": [
    "trump_re = re.compile(r'(Trump)')\n",
    "\n",
    "count = 0\n",
    "for i, row in df.iterrows():\n",
    "    if re.search(trump_re, row['mention']) and row['account_category'] == 'RightTroll':\n",
    "        count += 1\n",
    "count"
   ]
  },
  {
   "cell_type": "code",
   "execution_count": 14,
   "metadata": {},
   "outputs": [
    {
     "data": {
      "text/plain": [
       "159"
      ]
     },
     "execution_count": 14,
     "metadata": {},
     "output_type": "execute_result"
    }
   ],
   "source": [
    "count = 0\n",
    "for i, row in df.iterrows():\n",
    "    if re.search(clinton_re, row['mention']) and row['account_category'] == 'LeftTroll':\n",
    "        count += 1\n",
    "count"
   ]
  },
  {
   "cell_type": "code",
   "execution_count": 15,
   "metadata": {},
   "outputs": [
    {
     "data": {
      "text/plain": [
       "730"
      ]
     },
     "execution_count": 15,
     "metadata": {},
     "output_type": "execute_result"
    }
   ],
   "source": [
    "count = 0\n",
    "for i, row in df.iterrows():\n",
    "    if re.search(trump_re, row['mention']) and row['account_category'] == 'LeftTroll':\n",
    "        count += 1\n",
    "count"
   ]
  },
  {
   "cell_type": "code",
   "execution_count": 29,
   "metadata": {},
   "outputs": [
    {
     "data": {
      "text/plain": [
       "778"
      ]
     },
     "execution_count": 29,
     "metadata": {},
     "output_type": "execute_result"
    }
   ],
   "source": [
    "df['publish_date'] = pd.to_datetime(df['publish_date'])\n",
    "\n",
    "pre_df = df[df['publish_date'] <= election_date]\n",
    "\n",
    "count = 0\n",
    "for i, row in pre_df.iterrows():\n",
    "    if re.search(clinton_re, row['mention']):\n",
    "        count += 1\n",
    "count"
   ]
  },
  {
   "cell_type": "code",
   "execution_count": 28,
   "metadata": {},
   "outputs": [
    {
     "data": {
      "text/plain": [
       "267"
      ]
     },
     "execution_count": 28,
     "metadata": {},
     "output_type": "execute_result"
    }
   ],
   "source": [
    "#Tweets mentioning Trump Clinton before and after election\n",
    "\n",
    "election_date = pd.to_datetime('November 8, 2016')\n",
    "\n",
    "post_df = df[df['publish_date'] > election_date]\n",
    "\n",
    "count = 0\n",
    "for i, row in post_df.iterrows():\n",
    "    if re.search(clinton_re, row['mention']):\n",
    "        count += 1\n",
    "count"
   ]
  },
  {
   "cell_type": "code",
   "execution_count": 30,
   "metadata": {},
   "outputs": [
    {
     "data": {
      "text/plain": [
       "828"
      ]
     },
     "execution_count": 30,
     "metadata": {},
     "output_type": "execute_result"
    }
   ],
   "source": [
    "pre_df = df[df['publish_date'] <= election_date]\n",
    "\n",
    "count = 0\n",
    "for i, row in pre_df.iterrows():\n",
    "    if re.search(trump_re, row['mention']):\n",
    "        count += 1\n",
    "count"
   ]
  },
  {
   "cell_type": "code",
   "execution_count": 31,
   "metadata": {},
   "outputs": [
    {
     "data": {
      "text/plain": [
       "1458"
      ]
     },
     "execution_count": 31,
     "metadata": {},
     "output_type": "execute_result"
    }
   ],
   "source": [
    "post_df = df[df['publish_date'] > election_date]\n",
    "\n",
    "count = 0\n",
    "for i, row in post_df.iterrows():\n",
    "    if re.search(trump_re, row['mention']):\n",
    "        count += 1\n",
    "count"
   ]
  },
  {
   "cell_type": "code",
   "execution_count": 38,
   "metadata": {},
   "outputs": [
    {
     "data": {
      "text/plain": [
       "957"
      ]
     },
     "execution_count": 38,
     "metadata": {},
     "output_type": "execute_result"
    }
   ],
   "source": [
    "count = 0\n",
    "for i, row in post_df.iterrows():\n",
    "    if re.search(trump_re, row['mention']) and row['account_category'] == 'RightTroll':\n",
    "        count += 1\n",
    "count"
   ]
  }
 ],
 "metadata": {
  "kernelspec": {
   "display_name": "Python 3",
   "language": "python",
   "name": "python3"
  },
  "language_info": {
   "codemirror_mode": {
    "name": "ipython",
    "version": 3
   },
   "file_extension": ".py",
   "mimetype": "text/x-python",
   "name": "python",
   "nbconvert_exporter": "python",
   "pygments_lexer": "ipython3",
   "version": "3.5.2"
  }
 },
 "nbformat": 4,
 "nbformat_minor": 2
}
